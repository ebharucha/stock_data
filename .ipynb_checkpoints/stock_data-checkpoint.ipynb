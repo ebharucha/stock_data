{
 "cells": [
  {
   "cell_type": "code",
   "execution_count": 4,
   "id": "32805e8b-ac14-41e7-b690-d7ef6df687fd",
   "metadata": {},
   "outputs": [],
   "source": [
    "# pip install --user -r requirements.txt"
   ]
  },
  {
   "cell_type": "code",
   "execution_count": 5,
   "id": "ca08c1ad-a599-4009-8321-62ec8ed73084",
   "metadata": {},
   "outputs": [],
   "source": [
    "import os\n",
    "from pathlib import Path\n",
    "import pandas as pd\n",
    "from yahooquery import Ticker\n",
    "from datetime import datetime\n",
    "import time"
   ]
  },
  {
   "cell_type": "code",
   "execution_count": 4,
   "id": "6f109bee-3e8f-4a40-80b8-a61dbe04e615",
   "metadata": {},
   "outputs": [
    {
     "name": "stdout",
     "output_type": "stream",
     "text": [
      "Hello!\n"
     ]
    }
   ],
   "source": [
    "def main(msg):\n",
    "    print (msg)\n",
    "\n",
    "if __name__ == \"__main__\":\n",
    "    input_stock_symbols = Path(\"data/stocks.txt\")\n",
    "    output_stocks_data = \"data/stocks_data.csv\"\n",
    "    if not input_stock_symbols.is_file():\n",
    "        raise FileNotFoundError(f\"The file '{file_path}' does not exist.\")\n",
    "    main(msg=\"Hello!\")"
   ]
  },
  {
   "cell_type": "code",
   "execution_count": 2,
   "id": "af446ee5-a44b-4b08-b5a7-b4c23f77e8ce",
   "metadata": {},
   "outputs": [
    {
     "data": {
      "text/plain": [
       "(10.06, 0.03979, '2025-10-21 04:00:S', 33.533333, '14.39%')"
      ]
     },
     "execution_count": 2,
     "metadata": {},
     "output_type": "execute_result"
    }
   ],
   "source": [
    "symbol = \"AGNC\"\n",
    "ticker = Ticker(symbol)\n",
    "\n",
    "ticker.financial_data[symbol]['currentPrice'], ticker.financial_data[symbol]['returnOnEquity'], ticker.calendar_events[symbol]['earnings']['earningsDate'][0], ticker.summary_detail[symbol]['trailingPE'], f'{ticker.summary_detail[symbol][\"dividendYield\"]*100}%'"
   ]
  },
  {
   "cell_type": "code",
   "execution_count": null,
   "id": "e84124a2-fd2d-4254-ada8-727f03f331ff",
   "metadata": {},
   "outputs": [],
   "source": []
  }
 ],
 "metadata": {
  "kernelspec": {
   "display_name": "Python 3 (ipykernel)",
   "language": "python",
   "name": "python3"
  },
  "language_info": {
   "codemirror_mode": {
    "name": "ipython",
    "version": 3
   },
   "file_extension": ".py",
   "mimetype": "text/x-python",
   "name": "python",
   "nbconvert_exporter": "python",
   "pygments_lexer": "ipython3",
   "version": "3.12.9"
  }
 },
 "nbformat": 4,
 "nbformat_minor": 5
}
